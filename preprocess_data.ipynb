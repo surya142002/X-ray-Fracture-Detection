{
 "cells": [
  {
   "cell_type": "code",
   "execution_count": 1,
   "metadata": {},
   "outputs": [
    {
     "name": "stdout",
     "output_type": "stream",
     "text": [
      "train/fractured: 4606 images\n",
      "train/not fractured: 4640 images\n",
      "val/fractured: 337 images\n",
      "val/not fractured: 492 images\n",
      "test/fractured: 238 images\n",
      "test/not fractured: 268 images\n"
     ]
    }
   ],
   "source": [
    "import os\n",
    "\n",
    "DATASET_PATH = \"Bone_Fracture_Binary_Classification\"\n",
    "\n",
    "# Count images in each category\n",
    "for split in [\"train\", \"val\", \"test\"]:\n",
    "    for category in [\"fractured\", \"not fractured\"]:\n",
    "        path = os.path.join(DATASET_PATH, split, category)\n",
    "        num_images = len(os.listdir(path))\n",
    "        print(f\"{split}/{category}: {num_images} images\")\n"
   ]
  },
  {
   "cell_type": "code",
   "execution_count": 2,
   "metadata": {},
   "outputs": [
    {
     "name": "stdout",
     "output_type": "stream",
     "text": [
      "Sample Filenames:\n",
      "Bone_Fracture_Binary_Classification/train/fractured/63.jpg\n",
      "Bone_Fracture_Binary_Classification/train/fractured/91-rotated3-rotated1-rotated1 - Copy (1).jpg\n",
      "Bone_Fracture_Binary_Classification/train/fractured/81-rotated1-rotated2-rotated2.jpg\n",
      "Bone_Fracture_Binary_Classification/train/fractured/2-rotated1-rotated1 - Copy (1).jpg\n",
      "Bone_Fracture_Binary_Classification/train/fractured/189.jpg\n"
     ]
    }
   ],
   "source": [
    "import glob\n",
    "\n",
    "# Get sample filenames\n",
    "sample_files = glob.glob(os.path.join(DATASET_PATH, \"train\", \"fractured\", \"*\"))[:5]\n",
    "print(\"Sample Filenames:\")\n",
    "for f in sample_files:\n",
    "    print(f)\n"
   ]
  },
  {
   "cell_type": "code",
   "execution_count": 3,
   "metadata": {},
   "outputs": [
    {
     "ename": "ModuleNotFoundError",
     "evalue": "No module named 'cv2'",
     "output_type": "error",
     "traceback": [
      "\u001b[0;31m---------------------------------------------------------------------------\u001b[0m",
      "\u001b[0;31mModuleNotFoundError\u001b[0m                       Traceback (most recent call last)",
      "Cell \u001b[0;32mIn[3], line 1\u001b[0m\n\u001b[0;32m----> 1\u001b[0m \u001b[38;5;28;01mimport\u001b[39;00m\u001b[38;5;250m \u001b[39m\u001b[38;5;21;01mcv2\u001b[39;00m\n\u001b[1;32m      2\u001b[0m \u001b[38;5;28;01mimport\u001b[39;00m\u001b[38;5;250m \u001b[39m\u001b[38;5;21;01mmatplotlib\u001b[39;00m\u001b[38;5;21;01m.\u001b[39;00m\u001b[38;5;21;01mpyplot\u001b[39;00m\u001b[38;5;250m \u001b[39m\u001b[38;5;28;01mas\u001b[39;00m\u001b[38;5;250m \u001b[39m\u001b[38;5;21;01mplt\u001b[39;00m\n\u001b[1;32m      4\u001b[0m \u001b[38;5;66;03m# Load and display a few images\u001b[39;00m\n",
      "\u001b[0;31mModuleNotFoundError\u001b[0m: No module named 'cv2'"
     ]
    }
   ],
   "source": [
    "import cv2\n",
    "import matplotlib.pyplot as plt\n",
    "\n",
    "# Load and display a few images\n",
    "fig, axes = plt.subplots(1, 5, figsize=(15, 5))\n",
    "for i, file in enumerate(sample_files[:5]):\n",
    "    img = cv2.imread(file)\n",
    "    img = cv2.cvtColor(img, cv2.COLOR_BGR2RGB)  # Convert BGR to RGB (for proper display)\n",
    "    axes[i].imshow(img)\n",
    "    axes[i].axis(\"off\")\n",
    "plt.show()\n"
   ]
  }
 ],
 "metadata": {
  "kernelspec": {
   "display_name": "venv",
   "language": "python",
   "name": "python3"
  },
  "language_info": {
   "codemirror_mode": {
    "name": "ipython",
    "version": 3
   },
   "file_extension": ".py",
   "mimetype": "text/x-python",
   "name": "python",
   "nbconvert_exporter": "python",
   "pygments_lexer": "ipython3",
   "version": "3.13.1"
  }
 },
 "nbformat": 4,
 "nbformat_minor": 2
}
